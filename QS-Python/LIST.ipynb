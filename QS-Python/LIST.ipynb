{
 "cells": [
  {
   "cell_type": "markdown",
   "id": "7ae36e85-5a1c-45bd-babb-df596313afc6",
   "metadata": {},
   "source": [
    "# List"
   ]
  },
  {
   "cell_type": "code",
   "execution_count": 5,
   "id": "0adba8ef-737c-40d4-9e92-7c26db9e3616",
   "metadata": {},
   "outputs": [],
   "source": [
    "#homogeneous\n",
    "a=[10,20,30,40]\n",
    "#heterogeneous\n"
   ]
  },
  {
   "cell_type": "code",
   "execution_count": null,
   "id": "04614aa0-1919-4826-b5b3-161cccd3e88a",
   "metadata": {},
   "outputs": [],
   "source": []
  }
 ],
 "metadata": {
  "kernelspec": {
   "display_name": "Python [conda env:base] *",
   "language": "python",
   "name": "conda-base-py"
  },
  "language_info": {
   "codemirror_mode": {
    "name": "ipython",
    "version": 3
   },
   "file_extension": ".py",
   "mimetype": "text/x-python",
   "name": "python",
   "nbconvert_exporter": "python",
   "pygments_lexer": "ipython3",
   "version": "3.11.7"
  }
 },
 "nbformat": 4,
 "nbformat_minor": 5
}
