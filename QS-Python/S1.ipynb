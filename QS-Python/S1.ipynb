{
 "cells": [
  {
   "cell_type": "markdown",
   "id": "7374b173-0208-456c-9419-c87a8c6ceb60",
   "metadata": {},
   "source": [
    "## Printing The Version"
   ]
  },
  {
   "cell_type": "code",
   "execution_count": 2,
   "id": "75861312-2221-439f-87b7-738f0cbfb96a",
   "metadata": {},
   "outputs": [
    {
     "name": "stdout",
     "output_type": "stream",
     "text": [
      "Python 3.11.7\n"
     ]
    }
   ],
   "source": [
    "!python --version"
   ]
  },
  {
   "cell_type": "markdown",
   "id": "0874a8db-9ef1-49bc-86af-438a8f53dcb4",
   "metadata": {},
   "source": [
    "## To Print Keywords"
   ]
  },
  {
   "cell_type": "code",
   "execution_count": 4,
   "id": "e15a4d99-8a2d-4f6b-9c16-abfc5824fa48",
   "metadata": {},
   "outputs": [],
   "source": [
    "#import keyword\n",
    "#keyword.kwlist"
   ]
  },
  {
   "cell_type": "markdown",
   "id": "dc3a3fce-937d-47f8-83c4-6c47cdc42a1e",
   "metadata": {},
   "source": [
    "## To Check Memory Location Allocation"
   ]
  },
  {
   "cell_type": "code",
   "execution_count": 6,
   "id": "46d63dd6-4602-40b5-861a-d7da88a9549a",
   "metadata": {},
   "outputs": [],
   "source": [
    "a=10"
   ]
  },
  {
   "cell_type": "code",
   "execution_count": 7,
   "id": "5bb99fdd-2365-4686-9206-cd0cffde46c4",
   "metadata": {},
   "outputs": [
    {
     "name": "stdout",
     "output_type": "stream",
     "text": [
      "140722422531144\n"
     ]
    }
   ],
   "source": [
    "print(id(a))"
   ]
  },
  {
   "cell_type": "code",
   "execution_count": 8,
   "id": "9767527d-4776-4c5e-9dbf-32e689158235",
   "metadata": {},
   "outputs": [],
   "source": [
    "b=20"
   ]
  },
  {
   "cell_type": "code",
   "execution_count": 9,
   "id": "6361b958-d65a-438d-9679-2645af45e9c0",
   "metadata": {},
   "outputs": [
    {
     "name": "stdout",
     "output_type": "stream",
     "text": [
      "140722422531464\n"
     ]
    }
   ],
   "source": [
    "print(id(b))"
   ]
  },
  {
   "cell_type": "code",
   "execution_count": 10,
   "id": "006f82be-0372-4a34-a34c-06ab48a94702",
   "metadata": {},
   "outputs": [],
   "source": [
    "c=10"
   ]
  },
  {
   "cell_type": "code",
   "execution_count": 11,
   "id": "23c5c7e2-8355-4eae-8525-e94eee139134",
   "metadata": {},
   "outputs": [
    {
     "name": "stdout",
     "output_type": "stream",
     "text": [
      "140722422531144\n"
     ]
    }
   ],
   "source": [
    "print(id(c))"
   ]
  }
 ],
 "metadata": {
  "kernelspec": {
   "display_name": "Python [conda env:base] *",
   "language": "python",
   "name": "conda-base-py"
  },
  "language_info": {
   "codemirror_mode": {
    "name": "ipython",
    "version": 3
   },
   "file_extension": ".py",
   "mimetype": "text/x-python",
   "name": "python",
   "nbconvert_exporter": "python",
   "pygments_lexer": "ipython3",
   "version": "3.11.7"
  }
 },
 "nbformat": 4,
 "nbformat_minor": 5
}
